### 0. Initial Setup
import os
os.environ['PYTHONHASHSEED'] = str(1)
import numpy as np
np.random.seed(1)
import random
random.seed(1)
import warnings
warnings.filterwarnings("ignore")

# 1. Library Imports
import pandas as pd
from sklearn.ensemble import AdaBoostRegressor
from sklearn.tree import DecisionTreeRegressor
from sklearn.model_selection import train_test_split
from sklearn.preprocessing import StandardScaler, PowerTransformer
from sklearn.impute import KNNImputer
from sklearn.metrics import mean_squared_error, r2_score, mean_absolute_error
from skopt import BayesSearchCV
from skopt.space import Real, Integer
from sklearn.model_selection import KFold

# 2. Data Loading
data = pd.read_excel('origin_data.xlsx')
X = data.iloc[:, :-1]
y = data.iloc[:, -1]

# 3. Data Preprocessing
# Remove irrelevant columns
X.drop(['E', 'T', 'S'], axis=1, inplace=True)

# Impute missing values using KNN
imputer = KNNImputer(n_neighbors=5)
X_imputed = imputer.fit_transform(X)

# Apply Yeo-Johnson transformation
transformer = PowerTransformer(method='yeo-johnson')
X_transformed = transformer.fit_transform(X_imputed)

# Standardize features
scaler = StandardScaler()
X_scaled = scaler.fit_transform(X_transformed)

X_train, X_test, y_train, y_test = train_test_split(X_scaled, y, test_size=0.2, random_state=1)

# 4. Parameter Optimization (Bayesian Optimization)
base_estimator = DecisionTreeRegressor(random_state=1)
print(f'Best parameters: {best_params}')
ada_model = AdaBoostRegressor(base_estimator=base_estimator, random_state=1)
param_spaces = {
    'n_estimators': Integer(50, 500),
    'learning_rate': Real(0.01, 2.0),
    'base_estimator__max_depth': Integer(1, 10)
}

optimizer = BayesSearchCV(estimator=ada_model, search_spaces=param_spaces, n_iter=32, scoring='neg_mean_squared_error', cv=5)
optimizer.fit(X_train, y_train)

# Extract best parameters
best_params = optimizer.best_params_
max_depth = best_params['base_estimator__max_depth']
learning_rate = best_params['learning_rate']
n_estimators = best_params['n_estimators']

# Create a new base_estimator with the optimal max_depth
optimized_base_estimator = DecisionTreeRegressor(max_depth=max_depth, random_state=1)

# Update the AdaBoost model with the new base_estimator
adaboost_optimized = AdaBoostRegressor(base_estimator=optimized_base_estimator, n_estimators=n_estimators, learning_rate=learning_rate, random_state=1)
adaboost_optimized.fit(X_train, y_train)

# 5. Model Accuracy Testing
y_pred_train = adaboost_optimized.predict(X_train)
y_pred_test = adaboost_optimized.predict(X_test)
rmse_train = np.sqrt(mean_squared_error(y_train, y_pred_train))
rmse_test = np.sqrt(mean_squared_error(y_test, y_pred_test))
r2_train = r2_score(y_train, y_pred_train)
r2_test = r2_score(y_test, y_pred_test)
mae_train = mean_absolute_error(y_train, y_pred_train)
mae_test = mean_absolute_error(y_test, y_pred_test)

print(f'Train RMSE: {rmse_train}, Train R^2: {r2_train}, Train MAE: {mae_train}')
print(f'Test RMSE: {rmse_test}, Test R^2: {r2_test}, Test MAE: {mae_test}')

# 6. Export Data
with pd.ExcelWriter('Results_AdaBoost.xlsx') as writer:
    train_results_df = pd.DataFrame({
        'y_true': y_train,
        'y_pred': y_pred_train
    })
    test_results_df = pd.DataFrame({
        'y_true': y_test,
        'y_pred': y_pred_test
    })
    
    train_results_df.to_excel(writer, sheet_name='Train Results', index=False)
    test_results_df.to_excel(writer, sheet_name='Test Results', index=False)

# 7. Model Evaluation Loop
kf = KFold(n_splits=5, shuffle=True, random_state=1)
metrics = {'train_rmse': [], 'test_rmse': [], 'train_r2': [], 'test_r2': [], 'train_mae': [], 'test_mae': []}

for i in range(50):
    for train_index, test_index in kf.split(X_scaled):
        X_train_kf, X_test_kf = X_scaled[train_index], X_scaled[test_index]
        y_train_kf, y_test_kf = y.iloc[train_index], y.iloc[test_index]

        adaboost_optimized.fit(X_train_kf, y_train_kf)

        y_train_pred_kf = adaboost_optimized.predict(X_train_kf)
        y_test_pred_kf = adaboost_optimized.predict(X_test_kf)

        train_rmse_kf = np.sqrt(mean_squared_error(y_train_kf, y_train_pred_kf))
        test_rmse_kf = np.sqrt(mean_squared_error(y_test_kf, y_test_pred_kf))
        train_r2_kf = r2_score(y_train_kf, y_train_pred_kf)
        test_r2_kf = r2_score(y_test_kf, y_test_pred_kf)
        train_mae_kf = mean_absolute_error(y_train_kf, y_train_pred_kf)
        test_mae_kf = mean_absolute_error(y_test_kf, y_test_pred_kf)

        metrics['train_rmse'].append(train_rmse_kf)
        metrics['test_rmse'].append(test_rmse_kf)
        metrics['train_r2'].append(train_r2_kf)
        metrics['test_r2'].append(test_r2_kf)
        metrics['train_mae'].append(train_mae_kf)
        metrics['test_mae'].append(test_mae_kf)

# Save evaluation results to Excel
results_df = pd.DataFrame(metrics)
results_df.to_excel("AdaBoost_Model_Evaluation_Results.xlsx", index=False)

print("Completed model evaluations.")