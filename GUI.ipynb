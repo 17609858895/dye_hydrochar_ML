import pandas as pd
import numpy as np
import joblib
from sklearn.impute import KNNImputer
import tkinter as tk
from tkinter imk

# 加载数据并删除指定列
data = pd.read_excel('origin_data.xlsx')
data = data.drop(columns=["E", "S", "V"])
X = data.iloc[:, :-1]  # 假设最后一列是目标变量

# 初始化 KNNImputer 并 fit
imputer = KNNImputer(n_neighbors=5)
imputer.fit(X)

# 加载保存的模型和预处理工具
model = joblib.load('gb_optimized.pkl')
scaler = joblib.load('scaler.pkl')
transformer = joblib.load('transformer.pkl')

# 预测函数，使用已加载和准备好的模型和工具
def predict_model(inputs):
    # 准备输入数据
    data = np.array([inputs])

    # 数据预处理
    data_imputed = imputer.transform(data)
    data_transformed = transformer.transform(data_imputed)
    data_scaled = scaler.transform(data_transformed)

    # 预测
    prediction = model.predict(data_scaled)
    return prediction[0]

# 创建主窗口
root = tk.Tk()
root.title("ML Prediction for Dye Adsorption Capacity of Hydrochar")
root.geometry("1200x600")

# 添加标题
title_label = tk.Label(root, text="ML Prediction for Dye Adsorption Capacity of Hydrochar", font=("Arial", 18, "bold"), fg="#4B0082")
title_label.grid(row=0, column=0, columnspan=4, pady=10)

def create_labeled_entry(parent, text, row, column):
    label = tk.Label(parent, text=text, font=("Arial", 14), fg="black", wraplength=250, justify="left")
    label.grid(row=row, column=column, padx=10, pady=5, sticky=tk.W, columnspan=4)
    
    style = ttk.Style()
    style.configure("TEntry", padding=5, relief="flat", font=("Arial", 12))
    style.map("TEntry", fieldbackground=[("focus", "white")])

    entry = ttk.Entry(parent, width=10, style="TEntry")
    entry.grid(row=row+1, column=column, padx=5, pady=5)
    
    def increment():
        try:
            value = float(entry.get())
            entry.delete(0, tk.END)
            entry.insert(0, str(value + 1))
        except ValueError:
            entry.delete(0, tk.END)
            entry.insert(0, "0")
    
    def decrement():
        try:
            value = float(entry.get())
            entry.delete(0, tk.END)
            entry.insert(0, str(value - 1))
        except ValueError:
            entry.delete(0, tk.END)
            entry.insert(0, "0")
    
    inc_button = ttk.Button(parent, text="+", command=increment, width=2)
    inc_button.grid(row=row+1, column=column+1, padx=5, pady=5)
    
    dec_button = ttk.Button(parent, text="-", command=decrement, width=2)
    dec_button.grid(row=row+1, column=column+2, padx=5, pady=5)
    
    return entry

# 设置框架宽度
frame_width = 250

# 准备条件（Preparation conditions）
preparation_frame = tk.Frame(root, bd=2, relief="groove", width=frame_width)
preparation_frame.grid(row=1, column=0, padx=10, pady=10, sticky=tk.NS)
prep_label = tk.Label(preparation_frame, text="Preparation conditions", font=("Arial", 16, "bold"), fg="#6BB952", wraplength=frame_width, justify="left")
prep_label.grid(row=0, column=0, columnspan=4, pady=5)

Time_entry = create_labeled_entry(preparation_frame, "Thermal liquid duration (Time, h)", 1, 0)
R_entry = create_labeled_entry(preparation_frame, "Solid-liquid ratio (R, g/ml)", 3, 0)
TH_entry = create_labeled_entry(preparation_frame, "Thermal liquid temperature (T_H, ℃)", 5, 0)
Modified_entry = create_labeled_entry(preparation_frame, "Modified", 7, 0)

# Hydrochar properties（碳氢物性质）
hydrochar_frame = tk.Frame(root, bd=2, relief="groove", width=frame_width)
hydrochar_frame.grid(row=1, column=1, padx=10, pady=10, sticky=tk.NS)
hydrochar_label = tk.Label(hydrochar_frame, text="Hydrochar properties", font=("Times New Roman", 16, "bold"), fg="#EC748B", wraplength=frame_width, justify="left")
hydrochar_label.grid(row=0, column=0, columnspan=4, pady=5)

C_entry = create_labeled_entry(hydrochar_frame, "Carbon content (C, wt.%)", 1, 0)
HC_entry = create_labeled_entry(hydrochar_frame, "Molar ratio of hydrogen to carbon (H/C)", 3, 0)
OC_entry = create_labeled_entry(hydrochar_frame, "Molar ratio of oxygen to carbon (O/C)", 5, 0)
ONC_entry = create_labeled_entry(hydrochar_frame, "Molar ratio of oxygen and nitrogen to carbon [(O+N)/C]", 7, 0)
BET_entry = create_labeled_entry(hydrochar_frame, "Brunauer-Emmett-Teller surface area (BET, m²/g)", 9, 0)

# Adsorption conditions（吸附条件）
adsorption_frame = tk.Frame(root, bd=2, relief="groove", width=frame_width)
adsorption_frame.grid(row=1, column=2, padx=10, pady=10, sticky=tk.NS)
adsorption_label = tk.Label(adsorption_frame, text="Adsorption conditions", font=("Arial", 16, "bold"), fg="#C4A751", wraplength=frame_width, justify="left")
adsorption_label.grid(row=0, column=0, columnspan=4, pady=5)

pH_entry = create_labeled_entry(adsorption_frame, "Solution pH (pH)", 1, 0)
T_entry = create_labeled_entry(adsorption_frame, "Adsorption temperature (T, ℃)", 3, 0)
C0_entry = create_labeled_entry(adsorption_frame, "Initial concentration of dye to dosage of hydrochar (C₀, mmol/g)", 5, 0)

# Dye types（染料类型）
dye_frame = tk.Frame(root, bd=2, relief="groove", width=frame_width)
dye_frame.grid(row=1, column=3, padx=10, pady=10, sticky=tk.NS)
dye_label = tk.Label(dye_frame, text="Dye types", font=("Arial", 16, "bold"), fg="#36ACA2", wraplength=frame_width, justify="left")
dye_label.grid(row=0, column=0, columnspan=4, pady=5)

A_entry = create_labeled_entry(dye_frame, "Hydrogen bond acidity (A)", 1, 0)
B_entry = create_labeled_entry(dye_frame, "Hydrogen bond acceptor capability (B)", 3, 0)

# 添加预测按钮和结果显示
def handle_predict():
    inputs = [
        float(TH_entry.get()),  # Thermal liquid temperature (T_H, ℃)
        float(Time_entry.get()),  # Thermal liquid duration (Time, h)
        float(Modified_entry.get()),  # Modified
        float(R_entry.get()),  # Solid-liquid ratio (R, g/ml)
        float(C_entry.get()),  # Carbon content (C, wt.%)
        float(HC_entry.get()),  # Molar ratio of hydrogen to carbon (H/C)
        float(OC_entry.get()),  # Molar ratio of oxygen to carbon (O/C)
        float(ONC_entry.get()),  # Molar ratio of oxygen and nitrogen to carbon (O+N/C)
        float(BET_entry.get()),  # BET surface area (BET, m²/g)
        float(pH_entry.get()),  # Solution pH (pH)
        float(T_entry.get()),  # Adsorption temperature (T, ℃)
        float(C0_entry.get()),  # Initial concentration of dye to dosage of hydrochar (C₀, mmol/g)
        float(A_entry.get()),  # Hydrogen bond acidity (A)
        float(B_entry.get()),  # Hydrogen bond acceptor capability (B) 
    ]
    # Pass the entire list as a single argument
    prediction = predict_model(inputs)
    result_label.config(text=f'Predicted Adsorption: {prediction:.2f} mmol/g')

style = ttk.Style()
style.configure('Custom.TButton', background='#6EB1DE', foreground='black', font=("Arial", 12), padding=[10, 10])

predict_button = ttk.Button(root, text="Predict", command=handle_predict, style='Custom.TButton')
predict_button.grid(row=2, column=0, padx=10, pady=10, sticky=tk.W)

result_label = tk.Label(root, text="Prediction will appear here", font=("Arial", 14), fg="blue")
result_label.grid(row=3, column=0, padx=10, pady=10, sticky=tk.W)

# 运行 Tkinter 主循环
root.mainloop()port 