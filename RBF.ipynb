### 0. Initial Setup
import os
import numpy as np
import random
import warnings
warnings.filterwarnings("ignore")

# Set seeds for reproducibility
os.environ['PYTHONHASHSEED'] = str(1)
np.random.seed(1)
random.seed(1)

# 1. Library Imports
import pandas as pd
from sklearn.model_selection import train_test_split
from sklearn.preprocessing import StandardScaler, PowerTransformer
from sklearn.impute import KNNImputer
from sklearn.metrics import mean_squared_error, r2_score, mean_absolute_error
from sklearn.base import BaseEstimator, RegressorMixin
from sklearn.model_selection import KFold
from skopt import BayesSearchCV
from skopt.space import Integer, Real

# Custom RBFN class
class RBFN(BaseEstimator, RegressorMixin):
    def __init__(self, num_centers=10, gamma=0.1):
        self.num_centers = num_centers
        self.gamma = gamma  # Width of the RBFs
        self.centers = None
        self.weights = None
    
    def fit(self, X, y):
        random_indices = np.random.choice(len(X), self.num_centers, replace=False)
        self.centers = X[random_indices]
        self._compute_RBF(X, y)
        return self
    
    def predict(self, X):
        RBF_matrix = self._compute_RBF(X)
        return RBF_matrix.dot(self.weights)
    
    def _compute_RBF(self, X, y=None):
        RBF_matrix = np.zeros((len(X), self.num_centers))
        for i, center in enumerate(self.centers):
            distances = np.linalg.norm(X - center, axis=1)
            RBF_matrix[:, i] = np.exp(-self.gamma * (distances ** 2))
        if y is not None:
            self.weights = np.linalg.pinv(RBF_matrix).dot(y)
        return RBF_matrix
    
    def get_params(self, deep=True):
        return {'num_centers': self.num_centers, 'gamma': self.gamma}
    
    def set_params(self, **parameters):
        for parameter, value in parameters.items():
            setattr(self, parameter, value)
        return self

# 2. Data Loading
data = pd.read_excel('origin_data.xlsx')
X = data.iloc[:, :-1]
y = data.iloc[:, -1]

# 3. Data Preprocessing
X.drop(['E', 'T', 'S'], axis=1, inplace=True)
imputer = KNNImputer(n_neighbors=5)
X_imputed = imputer.fit_transform(X)
transformer = PowerTransformer(method='yeo-johnson')
X_transformed = transformer.fit_transform(X_imputed)
scaler = StandardScaler()
X_scaled = scaler.fit_transform(X_transformed)
X_train, X_test, y_train, y_test = train_test_split(X_scaled, y, test_size=0.2, random_state=1)

# 4. Parameter Optimization (Bayesian Optimization)
param_spaces = {
    'num_centers': Integer(5, 20),
    'gamma': Real(0.01, 1.0)
}
rbfn_model = RBFN()
optimizer = BayesSearchCV(estimator=rbfn_model, search_spaces=param_spaces, n_iter=32, scoring='neg_mean_squared_error', cv=5)
optimizer.fit(X_train, y_train)

# 5. Model Accuracy Testing
best_params = optimizer.best_params_
print(f'Best parameters: {best_params}')
rbfn_optimized = RBFN(**best_params)
rbfn_optimized.fit(X_train, y_train)

# 6. Model Evaluation
y_pred_train = rbfn_optimized.predict(X_train)
y_pred_test = rbfn_optimized.predict(X_test)
rmse_train = np.sqrt(mean_squared_error(y_train, y_pred_train))
rmse_test = np.sqrt(mean_squared_error(y_test, y_pred_test))
r2_train = r2_score(y_train, y_pred_train)
r2_test = r2_score(y_test, y_pred_test)
mae_train = mean_absolute_error(y_train, y_pred_train)
mae_test = mean_absolute_error(y_test, y_pred_test)

print(f'Train RMSE: {rmse_train}, Train R^2: {r2_train}, Train MAE: {mae_train}')
print(f'Test RMSE: {rmse_test}, Test R^2: {r2_test}, Test MAE: {mae_test}')

# 7. Export Data
with pd.ExcelWriter('RBFN_Model_Results.xlsx') as writer:
    train_results_df = pd.DataFrame({
        'y_true': y_train,
        'y_pred': y_pred_train
    })
    test_results_df = pd.DataFrame({
        'y_true': y_test,
        'y_pred': y_pred_test
    })
    
    train_results_df.to_excel(writer, sheet_name='Train Results', index=False)
    test_results_df.to_excel(writer, sheet_name='Test Results', index=False)
    
# 8. Model Evaluation Loop
kf = KFold(n_splits=5, shuffle=True, random_state=1)
metrics = {'train_rmse': [], 'test_rmse': [], 'train_r2': [], 'test_r2': [], 'train_mae': [], 'test_mae': []}

for i in range(50):
    for train_index, test_index in kf.split(X_scaled):
        X_train_kf, X_test_kf = X_scaled[train_index], X_scaled[test_index]
        y_train_kf, y_test_kf = y.iloc[train_index], y.iloc[test_index]

        rbfn_optimized.fit(X_train_kf, y_train_kf)

        y_train_pred_kf = rbfn_optimized.predict(X_train_kf)
        y_test_pred_kf = rbfn_optimized.predict(X_test_kf)

        train_rmse_kf = np.sqrt(mean_squared_error(y_train_kf, y_train_pred_kf))
        test_rmse_kf = np.sqrt(mean_squared_error(y_test_kf, y_test_pred_kf))
        train_r2_kf = r2_score(y_train_kf, y_train_pred_kf)
        test_r2_kf = r2_score(y_test_kf, y_test_pred_kf)
        train_mae_kf = mean_absolute_error(y_train_kf, y_train_pred_kf)
        test_mae_kf = mean_absolute_error(y_test_kf, y_test_pred_kf)

        metrics['train_rmse'].append(train_rmse_kf)
        metrics['test_rmse'].append(test_rmse_kf)
        metrics['train_r2'].append(train_r2_kf)
        metrics['test_r2'].append(test_r2_kf)
        metrics['train_mae'].append(train_mae_kf)
        metrics['test_mae'].append(test_mae_kf)

# Save evaluation results to Excel
results_df = pd.DataFrame(metrics)
results_df.to_excel("RBFN_Model_Evaluation_Results.xlsx", index=False)

print("Completed model evaluations.")

