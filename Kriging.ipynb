# Initial Setup
import os
import numpy as np
import random
import pandas as pd
from sklearn.gaussian_process import GaussianProcessRegressor
from sklearn.gaussian_process.kernels import RBF
from sklearn.model_selection import train_test_split, GridSearchCV, KFold
from sklearn.metrics import mean_squared_error, r2_score, mean_absolute_error
from sklearn.pipeline import Pipeline
from sklearn.preprocessing import StandardScaler, PowerTransformer
from sklearn.impute import KNNImputer

# Setting seed for reproducibility
os.environ['PYTHONHASHSEED'] = '1'
np.random.seed(1)
random.seed(1)

# Data Loading
data = pd.read_excel('origin_data.xlsx')
X = data.iloc[:, :-1].drop(['T', 'S', 'E'], axis=1)
y = data.iloc[:, -1]

# Data Preprocessing
# Impute missing values using KNN
imputer = KNNImputer(n_neighbors=5)
X_imputed = imputer.fit_transform(X)

# Apply Yeo-Johnson transformation
transformer = PowerTransformer(method='yeo-johnson')
X_transformed = transformer.fit_transform(X_imputed)

# Standardize features
scaler = StandardScaler()
X_scaled = scaler.fit_transform(X_transformed)

# Dataset Splitting
X_train, X_test, y_train, y_test = train_test_split(X_scaled, y, test_size=0.2, random_state=1)

# Create a pipeline combining data standardization and model training with regularization and noise level adjustment
pipeline = Pipeline([
    ('kriging', GaussianProcessRegressor(kernel=RBF(length_scale=1), alpha=0.1, random_state=1))
])

# Setting Grid Search to optimize model parameters
params = {
    'kriging__kernel': [RBF(l) for l in np.logspace(-1, 1, 10)]
}
grid_search = GridSearchCV(pipeline, params, cv=5, n_jobs=-1, scoring='r2')
grid_search.fit(X_train, y_train)

# Output the best parameters
print(f'Best parameters: {grid_search.best_params_}')

# Evaluate the best model on test data using the optimized parameters
best_model = grid_search.best_estimator_
y_pred_train = best_model.predict(X_train)
y_pred_test = best_model.predict(X_test)
rmse_train = np.sqrt(mean_squared_error(y_train, y_pred_train))
rmse_test = np.sqrt(mean_squared_error(y_test, y_pred_test))
r2_train = r2_score(y_train, y_pred_train)
r2_test = r2_score(y_test, y_pred_test)
mae_train = mean_absolute_error(y_train, y_pred_train)
mae_test = mean_absolute_error(y_test, y_pred_test)

print(f'Train RMSE: {rmse_train}, Train R^2: {r2_train}, Train MAE: {mae_train}')
print(f'Test RMSE: {rmse_test}, Test R^2: {r2_test}, Test MAE: {mae_test}')

# Export Data
with pd.ExcelWriter('Results_Kriging.xlsx') as writer:
    train_results_df = pd.DataFrame({
        'y_true': y_train,
        'y_pred': y_pred_train
    })
    test_results_df = pd.DataFrame({
        'y_true': y_test,
        'y_pred': y_pred_test
    })
    
    train_results_df.to_excel(writer, sheet_name='Train Results', index=False)
    test_results_df.to_excel(writer, sheet_name='Test Results', index=False)

# Model Evaluation Loop
kf = KFold(n_splits=5, shuffle=True, random_state=1)
metrics = {'train_rmse': [], 'test_rmse': [], 'train_r2': [], 'test_r2': [], 'train_mae': [], 'test_mae': []}

for i in range(50):
    for train_index, test_index in kf.split(X_scaled):
        X_train_kf, X_test_kf = X_scaled[train_index], X_scaled[test_index]
        y_train_kf, y_test_kf = y.iloc[train_index], y.iloc[test_index]
        best_model.fit(X_train_kf, y_train_kf)  # Using the best model from grid search

        y_train_pred_kf = best_model.predict(X_train_kf)
        y_test_pred_kf = best_model.predict(X_test_kf)

        train_rmse_kf = np.sqrt(mean_squared_error(y_train_kf, y_train_pred_kf))
        test_rmse_kf = np.sqrt(mean_squared_error(y_test_kf, y_test_pred_kf))
        train_r2_kf = r2_score(y_train_kf, y_train_pred_kf)
        test_r2_kf = r2_score(y_test_kf, y_test_pred_kf)
        train_mae_kf = mean_absolute_error(y_train_kf, y_train_pred_kf)
        test_mae_kf = mean_absolute_error(y_test_kf, y_test_pred_kf)

        metrics['train_rmse'].append(train_rmse_kf)
        metrics['test_rmse'].append(test_rmse_kf)
        metrics['train_r2'].append(train_r2_kf)
        metrics['test_r2'].append(test_r2_kf)
        metrics['train_mae'].append(train_mae_kf)
        metrics['test_mae'].append(test_mae_kf)

# Save Evaluation Results to Excel
evaluation_results_df = pd.DataFrame(metrics)
evaluation_results_df.to_excel("Kriging_Model_Evaluation_Results.xlsx", index=False)

print("Completed model evaluations.")
